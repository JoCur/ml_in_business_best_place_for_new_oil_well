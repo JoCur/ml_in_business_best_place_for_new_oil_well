{
 "cells": [
  {
   "cell_type": "markdown",
   "id": "49b34775",
   "metadata": {},
   "source": [
    "# OilyGiant mining company:  finding the best place for a new well.\n",
    "\n",
    "The main goal of this project is to build a model that will help to pick the region with the highest profit margin. For training and testing the model we will use the following data:\n",
    "\n",
    "### Data description\n",
    "\n",
    "Geological exploration data for the three regions are stored in files. We have data on oil samples from three regions. Parameters of each oil well in the region are already known. \n",
    "\n",
    "geo_data_0.csv\n",
    "geo_data_1.csv\n",
    "geo_data_2.csv\n",
    "\n",
    "**The features stored are as follows:**\n",
    "\n",
    "- id — unique oil well identifier\n",
    "\n",
    "- f0, f1, f2 — three features of points (their specific meaning is unimportant, but the features themselves are significant)\n",
    "\n",
    "- product — volume of reserves in the oil well (thousand barrels).\n",
    "\n",
    "\n",
    "**There are some conditions that must be considered before structuring our analysis**\n",
    "\n",
    "\n",
    "a) Only linear regression is suitable for model training (the rest are not sufficiently predictable).\n",
    "\n",
    "b) When exploring the region, a study of 500 points is carried with picking the best 200 points for the profit calculation.\n",
    "\n",
    "c) The budget for development of 200 oil wells is 100 USD million.\n",
    "\n",
    "d) One barrel of raw materials brings 4.5 USD of revenue The revenue from one unit of product is 4,500 dollars (volume of reserves is in thousand barrels).\n",
    "\n",
    "e) After the risk evaluation, keep only the regions with the risk of losses lower than 2.5%. From the ones that fit the criteria, the region with the highest average profit should be selected.\n",
    "\n",
    "f) The data is synthetic: contract details and well characteristics are not disclosed.\n",
    "\n",
    "**Steps to choose the location:**\n",
    "\n",
    "To the aim of properly selecting the location, we will:\n",
    "\n",
    "1) Collect the oil well parameters in the selected region: oil quality and volume of reserves;\n",
    "\n",
    "2) Build a model for predicting the volume of reserves in the new wells; Analyze potential profit and risks using the Bootstrapping technique.\n",
    "\n",
    "3) Pick the oil wells with the highest estimated values;\n",
    "\n",
    "4) Pick the region with the highest total profit for the selected oil wells.\n",
    "\n",
    "\n",
    "\n"
   ]
  },
  {
   "cell_type": "markdown",
   "id": "000de0f8",
   "metadata": {},
   "source": [
    "### 1) Download and prepare the data"
   ]
  },
  {
   "cell_type": "code",
   "execution_count": 1,
   "id": "c1ccbd06",
   "metadata": {},
   "outputs": [],
   "source": [
    "#Import libraries\n",
    "\n",
    "import pandas as pd\n",
    "from sklearn.model_selection import train_test_split\n",
    "from sklearn.linear_model import LinearRegression\n",
    "from sklearn.metrics import mean_squared_error\n",
    "from sklearn.preprocessing import StandardScaler \n",
    "from scipy import stats as st\n",
    "import numpy as np\n",
    "import seaborn as sns\n",
    "import matplotlib.pyplot as plt\n",
    "from sklearn.metrics import mean_absolute_error"
   ]
  },
  {
   "cell_type": "code",
   "execution_count": 2,
   "id": "bfe5b64a",
   "metadata": {},
   "outputs": [],
   "source": [
    "# Load datasets into Dataframes\n",
    "try:\n",
    "    df0=pd.read_csv('c:/Users/josef/Practicum/Machine learning in business/geo_data_0.csv')\n",
    "except:\n",
    "    df0=pd.read_csv('/datasets/geo_data_0.csv')\n",
    "    \n",
    "\n"
   ]
  },
  {
   "cell_type": "code",
   "execution_count": 3,
   "id": "fa58b7f3",
   "metadata": {},
   "outputs": [],
   "source": [
    "# Load datasets into Dataframes\n",
    "try:\n",
    "    df1=pd.read_csv('c:/Users/josef/Practicum/Machine learning in business/geo_data_1.csv')\n",
    "except:\n",
    "    df1=pd.read_csv('/datasets/geo_data_1.csv')\n",
    "\n"
   ]
  },
  {
   "cell_type": "code",
   "execution_count": 4,
   "id": "ad7ec0f6",
   "metadata": {},
   "outputs": [],
   "source": [
    "# Load datasets into Dataframes\n",
    "try:\n",
    "    df2=pd.read_csv('c:/Users/josef/Practicum/Machine learning in business/geo_data_2.csv')\n",
    "except:\n",
    "    df2=pd.read_csv('/datasets/geo_data_2.csv')"
   ]
  },
  {
   "cell_type": "code",
   "execution_count": 5,
   "id": "7093178b",
   "metadata": {},
   "outputs": [
    {
     "data": {
      "text/html": [
       "<div>\n",
       "<style scoped>\n",
       "    .dataframe tbody tr th:only-of-type {\n",
       "        vertical-align: middle;\n",
       "    }\n",
       "\n",
       "    .dataframe tbody tr th {\n",
       "        vertical-align: top;\n",
       "    }\n",
       "\n",
       "    .dataframe thead th {\n",
       "        text-align: right;\n",
       "    }\n",
       "</style>\n",
       "<table border=\"1\" class=\"dataframe\">\n",
       "  <thead>\n",
       "    <tr style=\"text-align: right;\">\n",
       "      <th></th>\n",
       "      <th>id</th>\n",
       "      <th>f0</th>\n",
       "      <th>f1</th>\n",
       "      <th>f2</th>\n",
       "      <th>product</th>\n",
       "    </tr>\n",
       "  </thead>\n",
       "  <tbody>\n",
       "    <tr>\n",
       "      <th>0</th>\n",
       "      <td>txEyH</td>\n",
       "      <td>0.705745</td>\n",
       "      <td>-0.497823</td>\n",
       "      <td>1.221170</td>\n",
       "      <td>105.280062</td>\n",
       "    </tr>\n",
       "    <tr>\n",
       "      <th>1</th>\n",
       "      <td>2acmU</td>\n",
       "      <td>1.334711</td>\n",
       "      <td>-0.340164</td>\n",
       "      <td>4.365080</td>\n",
       "      <td>73.037750</td>\n",
       "    </tr>\n",
       "    <tr>\n",
       "      <th>2</th>\n",
       "      <td>409Wp</td>\n",
       "      <td>1.022732</td>\n",
       "      <td>0.151990</td>\n",
       "      <td>1.419926</td>\n",
       "      <td>85.265647</td>\n",
       "    </tr>\n",
       "    <tr>\n",
       "      <th>3</th>\n",
       "      <td>iJLyR</td>\n",
       "      <td>-0.032172</td>\n",
       "      <td>0.139033</td>\n",
       "      <td>2.978566</td>\n",
       "      <td>168.620776</td>\n",
       "    </tr>\n",
       "    <tr>\n",
       "      <th>4</th>\n",
       "      <td>Xdl7t</td>\n",
       "      <td>1.988431</td>\n",
       "      <td>0.155413</td>\n",
       "      <td>4.751769</td>\n",
       "      <td>154.036647</td>\n",
       "    </tr>\n",
       "  </tbody>\n",
       "</table>\n",
       "</div>"
      ],
      "text/plain": [
       "      id        f0        f1        f2     product\n",
       "0  txEyH  0.705745 -0.497823  1.221170  105.280062\n",
       "1  2acmU  1.334711 -0.340164  4.365080   73.037750\n",
       "2  409Wp  1.022732  0.151990  1.419926   85.265647\n",
       "3  iJLyR -0.032172  0.139033  2.978566  168.620776\n",
       "4  Xdl7t  1.988431  0.155413  4.751769  154.036647"
      ]
     },
     "execution_count": 5,
     "metadata": {},
     "output_type": "execute_result"
    }
   ],
   "source": [
    "#Print first five rows of geo 0\n",
    "df0.head()"
   ]
  },
  {
   "cell_type": "code",
   "execution_count": 6,
   "id": "39e853b6",
   "metadata": {},
   "outputs": [
    {
     "data": {
      "text/html": [
       "<div>\n",
       "<style scoped>\n",
       "    .dataframe tbody tr th:only-of-type {\n",
       "        vertical-align: middle;\n",
       "    }\n",
       "\n",
       "    .dataframe tbody tr th {\n",
       "        vertical-align: top;\n",
       "    }\n",
       "\n",
       "    .dataframe thead th {\n",
       "        text-align: right;\n",
       "    }\n",
       "</style>\n",
       "<table border=\"1\" class=\"dataframe\">\n",
       "  <thead>\n",
       "    <tr style=\"text-align: right;\">\n",
       "      <th></th>\n",
       "      <th>id</th>\n",
       "      <th>f0</th>\n",
       "      <th>f1</th>\n",
       "      <th>f2</th>\n",
       "      <th>product</th>\n",
       "    </tr>\n",
       "  </thead>\n",
       "  <tbody>\n",
       "    <tr>\n",
       "      <th>0</th>\n",
       "      <td>kBEdx</td>\n",
       "      <td>-15.001348</td>\n",
       "      <td>-8.276000</td>\n",
       "      <td>-0.005876</td>\n",
       "      <td>3.179103</td>\n",
       "    </tr>\n",
       "    <tr>\n",
       "      <th>1</th>\n",
       "      <td>62mP7</td>\n",
       "      <td>14.272088</td>\n",
       "      <td>-3.475083</td>\n",
       "      <td>0.999183</td>\n",
       "      <td>26.953261</td>\n",
       "    </tr>\n",
       "    <tr>\n",
       "      <th>2</th>\n",
       "      <td>vyE1P</td>\n",
       "      <td>6.263187</td>\n",
       "      <td>-5.948386</td>\n",
       "      <td>5.001160</td>\n",
       "      <td>134.766305</td>\n",
       "    </tr>\n",
       "    <tr>\n",
       "      <th>3</th>\n",
       "      <td>KcrkZ</td>\n",
       "      <td>-13.081196</td>\n",
       "      <td>-11.506057</td>\n",
       "      <td>4.999415</td>\n",
       "      <td>137.945408</td>\n",
       "    </tr>\n",
       "    <tr>\n",
       "      <th>4</th>\n",
       "      <td>AHL4O</td>\n",
       "      <td>12.702195</td>\n",
       "      <td>-8.147433</td>\n",
       "      <td>5.004363</td>\n",
       "      <td>134.766305</td>\n",
       "    </tr>\n",
       "  </tbody>\n",
       "</table>\n",
       "</div>"
      ],
      "text/plain": [
       "      id         f0         f1        f2     product\n",
       "0  kBEdx -15.001348  -8.276000 -0.005876    3.179103\n",
       "1  62mP7  14.272088  -3.475083  0.999183   26.953261\n",
       "2  vyE1P   6.263187  -5.948386  5.001160  134.766305\n",
       "3  KcrkZ -13.081196 -11.506057  4.999415  137.945408\n",
       "4  AHL4O  12.702195  -8.147433  5.004363  134.766305"
      ]
     },
     "execution_count": 6,
     "metadata": {},
     "output_type": "execute_result"
    }
   ],
   "source": [
    "#Print first five rows of geo 1\n",
    "df1.head()"
   ]
  },
  {
   "cell_type": "code",
   "execution_count": 7,
   "id": "4d05eb2a",
   "metadata": {},
   "outputs": [
    {
     "data": {
      "text/html": [
       "<div>\n",
       "<style scoped>\n",
       "    .dataframe tbody tr th:only-of-type {\n",
       "        vertical-align: middle;\n",
       "    }\n",
       "\n",
       "    .dataframe tbody tr th {\n",
       "        vertical-align: top;\n",
       "    }\n",
       "\n",
       "    .dataframe thead th {\n",
       "        text-align: right;\n",
       "    }\n",
       "</style>\n",
       "<table border=\"1\" class=\"dataframe\">\n",
       "  <thead>\n",
       "    <tr style=\"text-align: right;\">\n",
       "      <th></th>\n",
       "      <th>id</th>\n",
       "      <th>f0</th>\n",
       "      <th>f1</th>\n",
       "      <th>f2</th>\n",
       "      <th>product</th>\n",
       "    </tr>\n",
       "  </thead>\n",
       "  <tbody>\n",
       "    <tr>\n",
       "      <th>0</th>\n",
       "      <td>fwXo0</td>\n",
       "      <td>-1.146987</td>\n",
       "      <td>0.963328</td>\n",
       "      <td>-0.828965</td>\n",
       "      <td>27.758673</td>\n",
       "    </tr>\n",
       "    <tr>\n",
       "      <th>1</th>\n",
       "      <td>WJtFt</td>\n",
       "      <td>0.262778</td>\n",
       "      <td>0.269839</td>\n",
       "      <td>-2.530187</td>\n",
       "      <td>56.069697</td>\n",
       "    </tr>\n",
       "    <tr>\n",
       "      <th>2</th>\n",
       "      <td>ovLUW</td>\n",
       "      <td>0.194587</td>\n",
       "      <td>0.289035</td>\n",
       "      <td>-5.586433</td>\n",
       "      <td>62.871910</td>\n",
       "    </tr>\n",
       "    <tr>\n",
       "      <th>3</th>\n",
       "      <td>q6cA6</td>\n",
       "      <td>2.236060</td>\n",
       "      <td>-0.553760</td>\n",
       "      <td>0.930038</td>\n",
       "      <td>114.572842</td>\n",
       "    </tr>\n",
       "    <tr>\n",
       "      <th>4</th>\n",
       "      <td>WPMUX</td>\n",
       "      <td>-0.515993</td>\n",
       "      <td>1.716266</td>\n",
       "      <td>5.899011</td>\n",
       "      <td>149.600746</td>\n",
       "    </tr>\n",
       "  </tbody>\n",
       "</table>\n",
       "</div>"
      ],
      "text/plain": [
       "      id        f0        f1        f2     product\n",
       "0  fwXo0 -1.146987  0.963328 -0.828965   27.758673\n",
       "1  WJtFt  0.262778  0.269839 -2.530187   56.069697\n",
       "2  ovLUW  0.194587  0.289035 -5.586433   62.871910\n",
       "3  q6cA6  2.236060 -0.553760  0.930038  114.572842\n",
       "4  WPMUX -0.515993  1.716266  5.899011  149.600746"
      ]
     },
     "execution_count": 7,
     "metadata": {},
     "output_type": "execute_result"
    }
   ],
   "source": [
    "#Print first five rows of geo 2\n",
    "df2.head()"
   ]
  },
  {
   "cell_type": "code",
   "execution_count": 8,
   "id": "c8037ef9",
   "metadata": {},
   "outputs": [
    {
     "name": "stdout",
     "output_type": "stream",
     "text": [
      "<class 'pandas.core.frame.DataFrame'>\n",
      "RangeIndex: 100000 entries, 0 to 99999\n",
      "Data columns (total 5 columns):\n",
      " #   Column   Non-Null Count   Dtype  \n",
      "---  ------   --------------   -----  \n",
      " 0   id       100000 non-null  object \n",
      " 1   f0       100000 non-null  float64\n",
      " 2   f1       100000 non-null  float64\n",
      " 3   f2       100000 non-null  float64\n",
      " 4   product  100000 non-null  float64\n",
      "dtypes: float64(4), object(1)\n",
      "memory usage: 3.8+ MB\n"
     ]
    }
   ],
   "source": [
    "#Print info about geo 0\n",
    "df0.info()"
   ]
  },
  {
   "cell_type": "code",
   "execution_count": 9,
   "id": "30e70b0d",
   "metadata": {},
   "outputs": [
    {
     "name": "stdout",
     "output_type": "stream",
     "text": [
      "<class 'pandas.core.frame.DataFrame'>\n",
      "RangeIndex: 100000 entries, 0 to 99999\n",
      "Data columns (total 5 columns):\n",
      " #   Column   Non-Null Count   Dtype  \n",
      "---  ------   --------------   -----  \n",
      " 0   id       100000 non-null  object \n",
      " 1   f0       100000 non-null  float64\n",
      " 2   f1       100000 non-null  float64\n",
      " 3   f2       100000 non-null  float64\n",
      " 4   product  100000 non-null  float64\n",
      "dtypes: float64(4), object(1)\n",
      "memory usage: 3.8+ MB\n"
     ]
    }
   ],
   "source": [
    "#Print info about geo 1\n",
    "df1.info()"
   ]
  },
  {
   "cell_type": "code",
   "execution_count": 10,
   "id": "7823d5a3",
   "metadata": {},
   "outputs": [
    {
     "name": "stdout",
     "output_type": "stream",
     "text": [
      "<class 'pandas.core.frame.DataFrame'>\n",
      "RangeIndex: 100000 entries, 0 to 99999\n",
      "Data columns (total 5 columns):\n",
      " #   Column   Non-Null Count   Dtype  \n",
      "---  ------   --------------   -----  \n",
      " 0   id       100000 non-null  object \n",
      " 1   f0       100000 non-null  float64\n",
      " 2   f1       100000 non-null  float64\n",
      " 3   f2       100000 non-null  float64\n",
      " 4   product  100000 non-null  float64\n",
      "dtypes: float64(4), object(1)\n",
      "memory usage: 3.8+ MB\n"
     ]
    }
   ],
   "source": [
    "#Print info about geo 2\n",
    "\n",
    "df2.info()"
   ]
  },
  {
   "cell_type": "code",
   "execution_count": 11,
   "id": "65f8a745",
   "metadata": {},
   "outputs": [
    {
     "data": {
      "text/plain": [
       "0"
      ]
     },
     "execution_count": 11,
     "metadata": {},
     "output_type": "execute_result"
    }
   ],
   "source": [
    "#Check for duplicates\n",
    "\n",
    "df0.duplicated().sum()"
   ]
  },
  {
   "cell_type": "code",
   "execution_count": 12,
   "id": "22eb09d6",
   "metadata": {},
   "outputs": [
    {
     "data": {
      "text/plain": [
       "0"
      ]
     },
     "execution_count": 12,
     "metadata": {},
     "output_type": "execute_result"
    }
   ],
   "source": [
    "#Check for duplicates\n",
    "\n",
    "df1.duplicated().sum()"
   ]
  },
  {
   "cell_type": "code",
   "execution_count": 13,
   "id": "3abbcdf3",
   "metadata": {},
   "outputs": [
    {
     "data": {
      "text/plain": [
       "0"
      ]
     },
     "execution_count": 13,
     "metadata": {},
     "output_type": "execute_result"
    }
   ],
   "source": [
    "#Check for duplicates\n",
    "\n",
    "df2.duplicated().sum()"
   ]
  },
  {
   "cell_type": "markdown",
   "id": "7d1af14f",
   "metadata": {},
   "source": [
    "\n",
    "## Conclusion\n",
    "\n",
    "From an overall data view, we can tell that the datasets are ready to start developing the model:\n",
    "\n",
    "- 1) Columns are correctly named, using lowercase characters and with no spacing between words. \n",
    "\n",
    "- 2) There are no missing values or duplicated rows.\n",
    "\n",
    "- 3) There are no data types to be changed.\n",
    "\n",
    "As for object type columns ('id'), we can safely dispose it in all datasets, as it serves as a unique identificator rather than an input to predict revenue or profitability.\n",
    "\n"
   ]
  },
  {
   "cell_type": "code",
   "execution_count": 14,
   "id": "82744e5d",
   "metadata": {},
   "outputs": [],
   "source": [
    "#Drop id in all datasets\n",
    "df0.drop('id', axis=1, inplace=True)\n",
    "df1.drop('id', axis=1, inplace=True)\n",
    "df2.drop('id', axis=1, inplace=True)"
   ]
  },
  {
   "cell_type": "markdown",
   "id": "47d39e19",
   "metadata": {},
   "source": [
    "### 2) Train and test the model for each region"
   ]
  },
  {
   "cell_type": "markdown",
   "id": "2b89f416",
   "metadata": {},
   "source": [
    "Recall from the descirption that only linear regression is suitable for model training (the rest are not sufficiently predictable).\n",
    "\n",
    "Below, we will create a linear regression classifier and train it using the 75% of the dataset corresponding to each region, testing the predictions made for the remaining 25%.\n",
    "\n",
    "For each model, we will print the average reserves for each well based on the validation target values, the average predicted reserves, and the model RMSE (Root mean squared error). We will use that evaluation metric for assessing model performance since, unlike MAE, the RMSE metric is more sensitive to large values: significant errors strongly affect the final RMSE value.\n"
   ]
  },
  {
   "cell_type": "code",
   "execution_count": 15,
   "id": "2438ddb6",
   "metadata": {},
   "outputs": [],
   "source": [
    "def train_linear_regression(df):\n",
    "    \n",
    "    '''Takes a dataframe with geological exploration data for a specific region and the region identifier.\n",
    "    First, it trains a linear regression model using the 75% of the information stored.\n",
    "    Then, it makes predictions of product reserves in each point for the remaining 25%, and compares them to\n",
    "    the actual target values.\n",
    "    Finally, it prints the average value of the real reserves (validation set - 25%), and the predicted reserves, as well\n",
    "    as the model RMSE and MAE scores, and returns:\n",
    "    \n",
    "    features_train (features used for training the model)\n",
    "    target_train (the target used for training)\n",
    "    features_valid (features used for making predictions)\n",
    "    target_valid (target used for scoring the model)\n",
    "    '''\n",
    "    \n",
    "    #Separate features and target\n",
    "    features=df.drop('product', axis=1)\n",
    "    target= df['product']\n",
    "    \n",
    "    #Split into train and validation dataset\n",
    "    features_train,features_valid,target_train,target_valid= train_test_split(features, target, test_size=0.25,random_state=12345)\n",
    "    \n",
    "    \n",
    "    #Create model \n",
    "    model = LinearRegression()\n",
    "\n",
    "    # features scaling\n",
    "    scaler = StandardScaler()\n",
    "    scaler.fit(features_train)\n",
    "\n",
    "    # transform the training set and the test set using transform()\n",
    "    features_train = scaler.transform(features_train)\n",
    "    features_valid  = scaler.transform(features_valid)\n",
    "\n",
    "    #train with training dataset for geo_0\n",
    "    model.fit(features_train, target_train)\n",
    "\n",
    "    #make predictions with validation set\n",
    "    predicted_valid= pd.Series(model.predict(features_valid), index=target_valid.index)\n",
    "    \n",
    "\n",
    "\n",
    "    #print average volume of reserves:\n",
    "    print(f'Average value of reserves: {round(target_valid.mean(),2)}')\n",
    "\n",
    "    #print average volume of predicted reserves\n",
    "    print(f'Average value of predicted reserves: {round(predicted_valid.mean(),2)}')\n",
    "\n",
    "    #print model RMSE (root mean squared error)\n",
    "    print(f'Model RMSE is {round(mean_squared_error(predicted_valid, target_valid)**0.5,2)}')\n",
    "\n",
    "    #print model MAE (mean absolute error)\n",
    "\n",
    "    print(f'Model MAE is: {round(mean_absolute_error(target_valid, predicted_valid),2)}')\n",
    "    \n",
    "    return features_train, features_valid, target_train, target_valid, predicted_valid"
   ]
  },
  {
   "cell_type": "markdown",
   "id": "e54a871e",
   "metadata": {},
   "source": [
    "#### 2.a) Geo_data_0"
   ]
  },
  {
   "cell_type": "code",
   "execution_count": 16,
   "id": "ae6d9cf3",
   "metadata": {},
   "outputs": [
    {
     "name": "stdout",
     "output_type": "stream",
     "text": [
      "Average value of reserves: 92.08\n",
      "Average value of predicted reserves: 92.59\n",
      "Model RMSE is 37.58\n",
      "Model MAE is: 30.92\n"
     ]
    }
   ],
   "source": [
    "#Train model with df0\n",
    "features_train0, features_valid0, target_train0, target_valid0, predicted_valid0 = train_linear_regression(df0)"
   ]
  },
  {
   "cell_type": "code",
   "execution_count": 17,
   "id": "d8f5aee4",
   "metadata": {},
   "outputs": [
    {
     "data": {
      "image/png": "[encoded data removed]",
      "text/plain": [
       "<Figure size 864x576 with 1 Axes>"
      ]
     },
     "metadata": {
      "needs_background": "light"
     },
     "output_type": "display_data"
    }
   ],
   "source": [
    "#PLot distribution of predicted vs real oil reserves for region one\n",
    "plt.figure(figsize=(12,8))\n",
    "sns.boxplot(data=pd.DataFrame({'target':target_valid0, 'predicted': predicted_valid0}))\n",
    "\n",
    "plt.title('Distribution of predicted vs. actual oil reserves per region point - Region one')\n",
    "plt.xlabel('Data points')\n",
    "plt.ylabel('Oil reserves per region point');"
   ]
  },
  {
   "cell_type": "code",
   "execution_count": 18,
   "id": "d9b32e35",
   "metadata": {},
   "outputs": [
    {
     "data": {
      "text/plain": [
       "<AxesSubplot:>"
      ]
     },
     "execution_count": 18,
     "metadata": {},
     "output_type": "execute_result"
    },
    {
     "data": {
      "image/png": "[encoded data removed]",
      "text/plain": [
       "<Figure size 432x288 with 2 Axes>"
      ]
     },
     "metadata": {
      "needs_background": "light"
     },
     "output_type": "display_data"
    }
   ],
   "source": [
    "#concatenate features train and target train values\n",
    "train_set0=pd.concat([pd.DataFrame(features_train0, columns=['f0','f1','f2'], index=target_train0.index), target_train0], axis=1)\n",
    "\n",
    "#Calculate correlation between features and target in train set\n",
    "correlation0= pd.DataFrame(train_set0.corr()['product'])    \n",
    "\n",
    "#plot heatmap\n",
    "sns.heatmap(correlation0, annot=True)"
   ]
  },
  {
   "cell_type": "markdown",
   "id": "fa24594d",
   "metadata": {},
   "source": [
    "#### 2.b) Geo_data_1"
   ]
  },
  {
   "cell_type": "code",
   "execution_count": 19,
   "id": "e025e9cb",
   "metadata": {},
   "outputs": [
    {
     "name": "stdout",
     "output_type": "stream",
     "text": [
      "Average value of reserves: 68.72\n",
      "Average value of predicted reserves: 68.73\n",
      "Model RMSE is 0.89\n",
      "Model MAE is: 0.72\n"
     ]
    }
   ],
   "source": [
    "#Train model with df1\n",
    "features_train1, features_valid1, target_train1, target_valid1, predicted_valid1 = train_linear_regression(df1)"
   ]
  },
  {
   "cell_type": "code",
   "execution_count": 20,
   "id": "2fe45e67",
   "metadata": {},
   "outputs": [
    {
     "data": {
      "image/png": "[encoded data removed]",
      "text/plain": [
       "<Figure size 864x576 with 1 Axes>"
      ]
     },
     "metadata": {
      "needs_background": "light"
     },
     "output_type": "display_data"
    }
   ],
   "source": [
    "#PLot distribution of predicted vs real oil reserves for region two\n",
    "plt.figure(figsize=(12,8))\n",
    "sns.boxplot(data=pd.DataFrame({'target':target_valid1, 'predicted': predicted_valid1}))\n",
    "\n",
    "plt.title('Distribution of predicted vs. actual oil reserves per region point - Region two')\n",
    "plt.xlabel('Data points')\n",
    "plt.ylabel('Oil reserves per region point');"
   ]
  },
  {
   "cell_type": "code",
   "execution_count": 21,
   "id": "5513c7b0",
   "metadata": {},
   "outputs": [
    {
     "data": {
      "text/plain": [
       "<AxesSubplot:>"
      ]
     },
     "execution_count": 21,
     "metadata": {},
     "output_type": "execute_result"
    },
    {
     "data": {
      "image/png": "[encoded data removed]",
      "text/plain": [
       "<Figure size 432x288 with 2 Axes>"
      ]
     },
     "metadata": {
      "needs_background": "light"
     },
     "output_type": "display_data"
    }
   ],
   "source": [
    "#concatenate features train and target train values\n",
    "train_set1=pd.concat([pd.DataFrame(features_train1, columns=['f0','f1','f2'], index=target_train1.index), target_train1], axis=1)\n",
    "\n",
    "#Calculate correlation between features and target in train set\n",
    "correlation1= pd.DataFrame(train_set1.corr()['product'])    \n",
    "\n",
    "#plot heatmap\n",
    "sns.heatmap(correlation1, annot=True)"
   ]
  },
  {
   "cell_type": "markdown",
   "id": "a86d3dac",
   "metadata": {},
   "source": [
    "#### 2.c) Geo_data_2"
   ]
  },
  {
   "cell_type": "code",
   "execution_count": 22,
   "id": "72e38686",
   "metadata": {},
   "outputs": [
    {
     "name": "stdout",
     "output_type": "stream",
     "text": [
      "Average value of reserves: 94.88\n",
      "Average value of predicted reserves: 94.97\n",
      "Model RMSE is 40.03\n",
      "Model MAE is: 32.79\n"
     ]
    }
   ],
   "source": [
    "#Train model with df2\n",
    "features_train2, features_valid2, target_train2, target_valid2, predicted_valid2 = train_linear_regression(df2)"
   ]
  },
  {
   "cell_type": "code",
   "execution_count": 23,
   "id": "32d28995",
   "metadata": {},
   "outputs": [
    {
     "data": {
      "image/png": "[encoded data removed]",
      "text/plain": [
       "<Figure size 864x576 with 1 Axes>"
      ]
     },
     "metadata": {
      "needs_background": "light"
     },
     "output_type": "display_data"
    }
   ],
   "source": [
    "#PLot distribution of predicted vs real oil reserves for region two\n",
    "plt.figure(figsize=(12,8))\n",
    "sns.boxplot(data=pd.DataFrame({'target':target_valid2, 'predicted': predicted_valid2}))\n",
    "\n",
    "plt.title('Distribution of predicted vs. actual oil reserves per region point - Region three')\n",
    "plt.xlabel('Data points')\n",
    "plt.ylabel('Oil reserves per region point');"
   ]
  },
  {
   "cell_type": "code",
   "execution_count": 24,
   "id": "b4c6be23",
   "metadata": {},
   "outputs": [
    {
     "data": {
      "text/plain": [
       "<AxesSubplot:>"
      ]
     },
     "execution_count": 24,
     "metadata": {},
     "output_type": "execute_result"
    },
    {
     "data": {
      "image/png": "[encoded data removed]",
      "text/plain": [
       "<Figure size 432x288 with 2 Axes>"
      ]
     },
     "metadata": {
      "needs_background": "light"
     },
     "output_type": "display_data"
    }
   ],
   "source": [
    "#concatenate features train and target train values\n",
    "train_set2=pd.concat([pd.DataFrame(features_train2, columns=['f0','f1','f2'], index=target_train2.index), target_train2], axis=1)\n",
    "\n",
    "#Calculate correlation between features and target in train set\n",
    "correlation2= pd.DataFrame(train_set2.corr()['product'])    \n",
    "\n",
    "#plot heatmap\n",
    "sns.heatmap(correlation2, annot=True)"
   ]
  },
  {
   "cell_type": "markdown",
   "id": "e18de558",
   "metadata": {},
   "source": [
    "Based on the predictions made by each model, we can say that the second region has the lowest dispersion in predictions (RMSE = 0.89), but also the lowest average predicted reserves (68.7 thousand barrels). From the correlation plot, we can easily realize that the reason the model is accurately predicting product is its perfect correlation to f2 column values, boosted by the nule correlation to the other two features. The third region has the highest values for both metrics (RMSE=40.03 and average predicted reserves= 94.97 thousand barrels), and the first one is quite close to the latter, with an RMSE of 37.58 and an average predicted reserve of 92.59. In both of the the last two models (one and three), correlation to f2 is way weaker (0.44 and 0.48), what makes it more difficult for the model to accurately predict the reserves in each region point.\n",
    "\n",
    "The boxplots depict the difference in the product dispersion between the target validation set and the predictions. In region 2, we see they are almost the same, whereas in the others predictions stick to a considerably narrower range than the real target values. \n",
    "\n",
    "**What we can conclude is that in the regions where the average product is higher, predictions are less accurate, making the decision more risky.**\n",
    "\n",
    "Moving forward, we will calculate the revenue estimated for each well, and set the minimum level of reserves we need for developing a new well without losses. Then, we'll compare that threshold with the average volume of reserves in each region."
   ]
  },
  {
   "cell_type": "markdown",
   "id": "e187587b",
   "metadata": {},
   "source": [
    "### 3) Profit calculation\n",
    "\n",
    "We know from the conditions specified in the contract that:\n",
    "\n",
    "- a) The budget for development of 200 oil wells is 100 USD million.\n",
    "\n",
    "- b) One barrel of raw materials brings 4.5 USD of revenue The revenue from one unit of product is 4,500 dollars (volume of reserves is in thousand barrels).\n",
    "\n",
    "Based on the abovementioned, after storing all key values for calculations in separate variables we will calculate the volume of reserves sufficient for developing a new well without losses. Compare the obtained value with the average volume of reserves in each region"
   ]
  },
  {
   "cell_type": "code",
   "execution_count": 25,
   "id": "77349b87",
   "metadata": {},
   "outputs": [
    {
     "data": {
      "text/plain": [
       "111.11111111111111"
      ]
     },
     "execution_count": 25,
     "metadata": {},
     "output_type": "execute_result"
    }
   ],
   "source": [
    "#Store the cost of each individual well (100 USD million / 200 oil wells).\n",
    "WELL_COST= 100000000/200\n",
    "\n",
    "#Store unit revenue (1k barrels).\n",
    "UNIT_REVENUE = 4500\n",
    "\n",
    "#Calculate the min level of reserves required for developing a new well without losses.\n",
    "MIN_RESERVES= WELL_COST/UNIT_REVENUE\n",
    "MIN_RESERVES"
   ]
  },
  {
   "cell_type": "code",
   "execution_count": 26,
   "id": "ae159539",
   "metadata": {},
   "outputs": [
    {
     "name": "stdout",
     "output_type": "stream",
     "text": [
      "Revenue (at break-even): 500000.0\n",
      "Cost (at break-even):500000.0\n",
      "Profit:0.0\n"
     ]
    }
   ],
   "source": [
    "#Double check the break even point is reached\n",
    "\n",
    "print(f'Revenue (at break-even): {MIN_RESERVES*UNIT_REVENUE}')\n",
    "\n",
    "print(f'Cost (at break-even):{WELL_COST}')\n",
    "\n",
    "print(f'Profit:{MIN_RESERVES*UNIT_REVENUE-WELL_COST}')"
   ]
  },
  {
   "cell_type": "markdown",
   "id": "37fea555",
   "metadata": {},
   "source": [
    "#### Conclusion\n",
    "\n",
    "The minimum volume of reserves for developing a new well without lossess is 111.11 thousand barrels. As compared to such benchmark, we can say that both predicted and target average for every region fall short of expectation. However, that average has been calculated based on 25 k region points, while we're actually aiming to detect the 200 points with higher product reserves. \n",
    "\n",
    "**To assess what the real profit would have been if we had chosen those 200 points based on our predictions, we will:**\n",
    "\n",
    "- a) Define a function to calculate profit as follows:\n",
    "\n",
    "\n",
    "     - Sort predictions from highest to lowest. Then get the target values that correspond to the first 200 region points.\n",
    "        \n",
    "     - Sum the real (validation target) product of those 200 region points, and multiply the sum by USD 4,500 (price per thousand barrels)\n",
    "        \n",
    "     - Subtract the cost of for developing 200 oil wells (100 USD million).\n",
    "     \n",
    "        \n",
    "- b) Use it to calculate what the profit per region would have been."
   ]
  },
  {
   "cell_type": "markdown",
   "id": "290c48c1",
   "metadata": {},
   "source": [
    "### 4) Calculate profit from a set of selected oil wells and model predictions\n",
    "\n",
    "As explained above, in this section we aim to:\n",
    "\n",
    "4.1. Pick the wells with the highest values of predictions.\n",
    "\n",
    "4.2. Summarize the target volume of reserves in accordance with these predictions\n",
    "\n",
    "4.3. Provide findings: suggest a region for oil wells' development and justify the choice. Calculate the profit for the obtained volume of reserves."
   ]
  },
  {
   "cell_type": "code",
   "execution_count": 27,
   "id": "801a090a",
   "metadata": {},
   "outputs": [],
   "source": [
    "#Write a function to calculate target profit of the top 200 wells sorted by predicted reserves\n",
    "\n",
    "def profit(predictions,target, count):\n",
    "    ''' Takes predicted oil reserves and sorts them from highest to lowest. \n",
    "    Then it selects the target values corresponding to the first n (count) predictions and calculates their profitability,\n",
    "    considering a cost of development of 100 Million USD.'''\n",
    "    \n",
    "    predictions_sorted = predictions.sort_values(ascending=False)\n",
    "    \n",
    "    target_selected = target[predictions_sorted.index][:count]\n",
    "    \n",
    "    target_revenue= target_selected.sum()*4500\n",
    "    cost= 100000000\n",
    "    target_profit=target_revenue-cost\n",
    "    \n",
    "    return target_profit"
   ]
  },
  {
   "cell_type": "code",
   "execution_count": 28,
   "id": "c9ad13af",
   "metadata": {},
   "outputs": [
    {
     "name": "stdout",
     "output_type": "stream",
     "text": [
      "Profit for region one would have been: USD 33208260.0\n"
     ]
    }
   ],
   "source": [
    "#Calculate profit for region one \n",
    "print('Profit for region one would have been: USD',round(profit(predicted_valid0, target_valid0,200),0))"
   ]
  },
  {
   "cell_type": "code",
   "execution_count": 29,
   "id": "8556ecd7",
   "metadata": {},
   "outputs": [
    {
     "name": "stdout",
     "output_type": "stream",
     "text": [
      "Profit for region two would have been: USD 24150867.0\n"
     ]
    }
   ],
   "source": [
    "#Calculate profit for region two\n",
    "print('Profit for region two would have been: USD',round(profit(predicted_valid1, target_valid1,200),0))"
   ]
  },
  {
   "cell_type": "code",
   "execution_count": 30,
   "id": "8b486cd7",
   "metadata": {},
   "outputs": [
    {
     "name": "stdout",
     "output_type": "stream",
     "text": [
      "Profit for region three would have been: USD 27103500.0\n"
     ]
    }
   ],
   "source": [
    "#Calculate profit for region three\n",
    "print('Profit for region three would have been: USD',round(profit(predicted_valid2, target_valid2,200),0))"
   ]
  },
  {
   "cell_type": "markdown",
   "id": "42e14c36",
   "metadata": {},
   "source": [
    "#### Conclusion\n",
    "\n",
    "If our decision was to be made only considering profitability, we would recommend the company to choose region one to build the 200 oil wells. But since we also must take risk into consideration, and keep only the regions with the risk of losses lower than 2.5%, we must first evaluate what that percentage is in each region before selecting one of them.\n",
    "\n",
    "\n",
    "**The final step will hence consist of properly assessing risk of losses in each region and discard those where it's higher than 2.5% before selecting the most profitable location**"
   ]
  },
  {
   "cell_type": "markdown",
   "id": "97e1fda1",
   "metadata": {},
   "source": [
    "### 5) Calculate risks and profit for each region:\n",
    "\n",
    "In order to evaluate risk of loss in each location, we will:\n",
    "\n",
    "5.1. Use the bootstrapping technique with 1000 samples to find the distribution of profit. When exploring the region, a study of 500 points is carried with picking the best 200 points for the profit calculation.\n",
    "\n",
    "5.2. Find average profit, 95% confidence interval and risk of losses. Loss is negative profit, calculate it as a probability and then express as a percentage.\n",
    "\n",
    "After the risk evaluation, keep only the regions with the risk of losses lower than 2.5%. From the ones that fit the criteria, the region with the highest average profit should be selected.\n",
    "\n",
    "5.3. Provide findings: suggest a region for development of oil wells and justify the choice."
   ]
  },
  {
   "cell_type": "code",
   "execution_count": 31,
   "id": "0237c7fa",
   "metadata": {},
   "outputs": [],
   "source": [
    "#Define function for bootstraping (1000 samples)\n",
    "def profit_bootstraping(features_train, features_valid,target_train, target_valid, predicted_valid):\n",
    "\n",
    "    #Define random state\n",
    "    state = np.random.RandomState(12345)\n",
    "    \n",
    "    #Add empty list to store profit of each sample\n",
    "    values = []\n",
    "    \n",
    "    #Loop through 1000 samples of 500 randomly selected datapoints, picking the top 200 with the highest predicted product.\n",
    "    for i in range(1000):\n",
    "\n",
    "        #Get a random selection of 500 data points with replacement (one point can be selected more than once)\n",
    "        target_subsample= target_valid.sample(n=500, replace=True, random_state=state)\n",
    "\n",
    "        #Get the predictions that correspond to the previously selected target points\n",
    "        pred_subsample=predicted_valid[target_subsample.index]\n",
    "\n",
    "        #Calculate profit for the top 200 performing wells (based on predictions) out of the 500 selected\n",
    "        profit_sample= profit(pred_subsample,target_subsample,200)\n",
    "\n",
    "        #Store profit in list\n",
    "        values.append(profit_sample)\n",
    "\n",
    "    #Convert list to series    \n",
    "    values = pd.Series(values)\n",
    "\n",
    "    #Calculate average profit for the 1000 samples\n",
    "    avg_profit= values.mean()\n",
    "\n",
    "    #Calculate the 95% confidence interval (the range within which the average of the total population (25k region points)\n",
    "    # has a 95% of probabilities to fall )\n",
    "    \n",
    "    lower = round(values.quantile(0.025),2)\n",
    "    upper = round(values.quantile(0.975),2)\n",
    "    \n",
    "\n",
    "    #Get the count of times when the profit was negative (out of the 1000 samples)\n",
    "    losses= (values < 0).mean()*100\n",
    "\n",
    "    print(\"Average profit:\", round(avg_profit,2))\n",
    "    print(f\"95% Confidence interval: ({lower}, {upper})\")\n",
    "    print(f\"Risk of losses: {losses}%\")\n",
    "\n",
    "    return values"
   ]
  },
  {
   "cell_type": "code",
   "execution_count": 32,
   "id": "60e981ec",
   "metadata": {},
   "outputs": [
    {
     "name": "stdout",
     "output_type": "stream",
     "text": [
      "Average profit: 4259385.27\n",
      "95% Confidence interval: (-1020900.95, 9479763.53)\n",
      "Risk of losses: 6.0%\n"
     ]
    }
   ],
   "source": [
    "#Region One\n",
    "values0=profit_bootstraping(features_train0, features_valid0,target_train0, target_valid0, predicted_valid0)"
   ]
  },
  {
   "cell_type": "code",
   "execution_count": 33,
   "id": "63f9e7f7",
   "metadata": {},
   "outputs": [
    {
     "name": "stdout",
     "output_type": "stream",
     "text": [
      "Average profit: 5152227.73\n",
      "95% Confidence interval: (688732.25, 9315475.91)\n",
      "Risk of losses: 1.0%\n"
     ]
    }
   ],
   "source": [
    "#REGION TWO\n",
    "values1=profit_bootstraping(features_train1, features_valid1,target_train1, target_valid1, predicted_valid1)"
   ]
  },
  {
   "cell_type": "code",
   "execution_count": 34,
   "id": "27abaf3a",
   "metadata": {},
   "outputs": [
    {
     "name": "stdout",
     "output_type": "stream",
     "text": [
      "Average profit: 4350083.63\n",
      "95% Confidence interval: (-1288805.47, 9697069.54)\n",
      "Risk of losses: 6.4%\n"
     ]
    }
   ],
   "source": [
    "#REGION THREE\n",
    "values2=profit_bootstraping(features_train2, features_valid2,target_train2, target_valid2, predicted_valid2)\n"
   ]
  },
  {
   "cell_type": "code",
   "execution_count": 35,
   "id": "83792469",
   "metadata": {},
   "outputs": [
    {
     "data": {
      "image/png": "[encoded data removed]",
      "text/plain": [
       "<Figure size 864x576 with 1 Axes>"
      ]
     },
     "metadata": {
      "needs_background": "light"
     },
     "output_type": "display_data"
    }
   ],
   "source": [
    "#Plot a histogram with each \n",
    "\n",
    "#set figure size\n",
    "plt.figure(figsize=(12,8))\n",
    "\n",
    "#add histogram ploting count of average profit for each region based on the 1000 samples analyzed above\n",
    "sns.histplot(values0, color='blue', label='Region 1', alpha=0.20)\n",
    "sns.histplot(values1, color='red', label='Region 2')\n",
    "sns.histplot(values2, color='green', label='Region 3',alpha=0.20)\n",
    "\n",
    "#add vertical line in profit= 0€\n",
    "plt.axvline(0, c=\"black\")\n",
    "\n",
    "#add vertical line in the 2.5th quantile for the profit values corresponding to each region.\n",
    "plt.axvline(values0.quantile(0.025), c='blue')\n",
    "plt.axvline(values1.quantile(0.025), c='red')\n",
    "plt.axvline(values2.quantile(0.025), c='green')\n",
    "\n",
    "#add legend to visualize what region each plot corresponds to \n",
    "plt.legend()\n",
    "\n",
    "#add title\n",
    "plt.title('Distribution of profit per region based on 1000 samples of the top 200 region points with the highest predicted reserves out of 500 randomly selected points.')\n",
    "\n",
    "#add x label\n",
    "plt.xlabel('Profit (in 10 Million USD) ')\n",
    "\n",
    "#show plot\n",
    "plt.show()"
   ]
  },
  {
   "cell_type": "markdown",
   "id": "48a32592",
   "metadata": {},
   "source": [
    "#### Conclusion\n",
    "\n",
    "After properly assessing risk of loss, we can confirm that REGION 2 is not only the one with the highest average predicted profit, but also the only one that meets our risk policy criteria.\n",
    "\n",
    "In the plot, we can see that it is the only one where the 0.025 quantile is to the right of the break even point (at which profit is 0 USD).\n",
    "\n",
    "Also, it's evident that the highest count of samples threw a higher profit than in the other two regions (the peaks are the ones more to the right as well).\n",
    "\n",
    "Based on risk and profitability assessment, we can confidently recommend the company to choose region 2 to develop 200 oil wells in the points where the predicted product reserves are the highest."
   ]
  },
  {
   "cell_type": "markdown",
   "id": "440791e3",
   "metadata": {},
   "source": [
    "### OVERALL SUMMARY\n",
    "\n",
    "After importing and getting an overview of geological exploration data for the three regions stored in files we concluded that the datasets were ready to start developing the model after disposing the \"ID\" column.\n",
    "\n",
    "As specified on the general assumptions, only linear regression was deemed suitable for model training (the rest are not sufficiently predictable).\n",
    "\n",
    "We trained a Linear regression model with the 75% of each dataset, and assessed its performance using the remaining 25%, through RMSE and MAE scores. \n",
    "\n",
    "The second region got the lowest RMSE (0.89) and MAE (0.72), but also the lowest average predicted and real product (68.73 thousand barrels, based on 25 k region points). From a correlation plot between validation features and target, we realized that the reason the model could accurately predict oil reserves in each point was its perfect correlation to f2 column values in region 2, boosted by the nule correlation between product and the other two features.\n",
    "\n",
    "As for the other two regions, their predicted and real reserves were around 92 and 94 k barrels, but the RMSE was almost half as high, denoting the high inaccuracy of the predictions.\n",
    "\n",
    "\n",
    "Next, we depicted the difference in product reserves dispersion between the target validation set and the predictions through boxplots. In region 2, we noticed they were almost the same, whereas in the others, predictions sticked to a considerably narrower range than the real target values.\n",
    "\n",
    "\n",
    "The following step consisted of calculating the minimum predicted product reserves we needed for covering the cost of developing 200 oil wells, which turned out to be 111.11 thousand barrels. The average reserves per region point were lower than that average, but we still had to estimate the profitability of the 200 region points with the highest predicted target.\n",
    "\n",
    "\n",
    "Region ONE would have been the one with the highest profit (USD 33,208,260) if we had made our decision based on the predictions for the entire validation set.\n",
    "\n",
    "However, since we were also required to take risk into consideration, and keep only the regions whrtr the risk of loss was lower than 2.5%, we proceeded to properly assess such risk and discard the regions where it was higher than the aforementioned threshould before selecting the most profitable location.\n",
    "\n",
    "\n",
    "We used the bootstrapping technique with 1000 samples to find the distribution of profit. When exploring the region, a study of 500 points was carried, with picking the best 200 points for the profit, 95% confidence interval and risk of losses calculation.\n",
    "\n",
    "### Conclusion\n",
    "\n",
    "After properly assessing risk of loss, we can confirm that REGION 2 is not only the one with the highest average predicted profit (USD 5,153,228) based on the 1000 samples analyzed, but also the only one that meets our risk policy criteria (risk of loss is 1%, whereas the other two are close to the 6%)\n",
    "\n",
    "From the combination of risk and profitability assessment, we can confidently recommend the company to choose REGION TWO to develop 200 oil wells in the points where the predicted product reserves are the highest.\n"
   ]
  }
 ],
 "metadata": {
  "ExecuteTimeLog": [
   {
    "duration": 73,
    "start_time": "2022-05-11T05:09:24.168Z"
   },
   {
    "duration": 7,
    "start_time": "2022-05-11T05:15:25.211Z"
   },
   {
    "duration": 1611,
    "start_time": "2022-05-11T05:15:47.789Z"
   },
   {
    "duration": 162,
    "start_time": "2022-05-11T05:15:49.402Z"
   },
   {
    "duration": 137,
    "start_time": "2022-05-11T05:15:49.565Z"
   },
   {
    "duration": 139,
    "start_time": "2022-05-11T05:15:49.704Z"
   },
   {
    "duration": 18,
    "start_time": "2022-05-11T05:15:49.845Z"
   },
   {
    "duration": 9,
    "start_time": "2022-05-11T05:15:49.865Z"
   },
   {
    "duration": 10,
    "start_time": "2022-05-11T05:15:49.876Z"
   },
   {
    "duration": 17,
    "start_time": "2022-05-11T05:15:49.907Z"
   },
   {
    "duration": 13,
    "start_time": "2022-05-11T05:15:49.926Z"
   },
   {
    "duration": 13,
    "start_time": "2022-05-11T05:15:49.940Z"
   },
   {
    "duration": 73,
    "start_time": "2022-05-11T05:15:49.955Z"
   },
   {
    "duration": 45,
    "start_time": "2022-05-11T05:15:50.030Z"
   },
   {
    "duration": 65,
    "start_time": "2022-05-11T05:15:50.077Z"
   },
   {
    "duration": 12,
    "start_time": "2022-05-11T05:15:50.144Z"
   },
   {
    "duration": 5,
    "start_time": "2022-05-11T05:15:50.158Z"
   },
   {
    "duration": 5,
    "start_time": "2022-05-11T05:17:01.878Z"
   },
   {
    "duration": 360,
    "start_time": "2022-05-11T05:17:06.442Z"
   },
   {
    "duration": 5,
    "start_time": "2022-05-11T05:17:17.854Z"
   },
   {
    "duration": 96,
    "start_time": "2022-05-11T05:17:18.513Z"
   },
   {
    "duration": 5,
    "start_time": "2022-05-11T05:20:41.742Z"
   },
   {
    "duration": 144,
    "start_time": "2022-05-11T05:20:43.263Z"
   },
   {
    "duration": 6,
    "start_time": "2022-05-11T05:20:49.753Z"
   },
   {
    "duration": 95,
    "start_time": "2022-05-11T05:20:52.413Z"
   },
   {
    "duration": 45,
    "start_time": "2022-05-11T05:20:57.701Z"
   },
   {
    "duration": 79,
    "start_time": "2022-05-11T05:21:02.629Z"
   },
   {
    "duration": 79,
    "start_time": "2022-05-11T05:27:48.803Z"
   },
   {
    "duration": 63,
    "start_time": "2022-05-11T05:28:54.949Z"
   },
   {
    "duration": 67,
    "start_time": "2022-05-11T05:29:18.301Z"
   },
   {
    "duration": 64,
    "start_time": "2022-05-11T05:30:29.918Z"
   },
   {
    "duration": 5,
    "start_time": "2022-05-11T05:36:13.638Z"
   },
   {
    "duration": 5,
    "start_time": "2022-05-11T05:36:30.976Z"
   },
   {
    "duration": 6,
    "start_time": "2022-05-11T05:42:07.684Z"
   },
   {
    "duration": 6,
    "start_time": "2022-05-11T05:43:40.550Z"
   },
   {
    "duration": 9,
    "start_time": "2022-05-11T05:44:17.587Z"
   },
   {
    "duration": 5,
    "start_time": "2022-05-11T05:44:33.976Z"
   },
   {
    "duration": 61,
    "start_time": "2022-05-11T05:44:35.946Z"
   },
   {
    "duration": 4,
    "start_time": "2022-05-11T05:45:01.569Z"
   },
   {
    "duration": 14,
    "start_time": "2022-05-11T05:45:53.471Z"
   },
   {
    "duration": 5,
    "start_time": "2022-05-11T05:46:07.550Z"
   },
   {
    "duration": 31,
    "start_time": "2022-05-11T05:46:16.057Z"
   },
   {
    "duration": 168,
    "start_time": "2022-05-11T05:46:19.277Z"
   },
   {
    "duration": 264,
    "start_time": "2022-05-11T05:46:23.447Z"
   },
   {
    "duration": 33,
    "start_time": "2022-05-11T05:47:14.297Z"
   },
   {
    "duration": 152,
    "start_time": "2022-05-11T05:47:32.369Z"
   },
   {
    "duration": 226,
    "start_time": "2022-05-11T05:47:34.537Z"
   },
   {
    "duration": 37,
    "start_time": "2022-05-11T05:48:30.191Z"
   },
   {
    "duration": 236,
    "start_time": "2022-05-11T05:48:49.059Z"
   },
   {
    "duration": 255,
    "start_time": "2022-05-11T05:48:50.213Z"
   },
   {
    "duration": 5,
    "start_time": "2022-05-11T05:50:47.746Z"
   },
   {
    "duration": 4,
    "start_time": "2022-05-11T05:51:38.367Z"
   },
   {
    "duration": 5,
    "start_time": "2022-05-11T06:10:18.861Z"
   },
   {
    "duration": 10,
    "start_time": "2022-05-11T06:11:35.742Z"
   },
   {
    "duration": 5,
    "start_time": "2022-05-11T06:11:44.549Z"
   },
   {
    "duration": 14,
    "start_time": "2022-05-11T06:11:44.843Z"
   },
   {
    "duration": 6,
    "start_time": "2022-05-11T06:13:09.633Z"
   },
   {
    "duration": 5,
    "start_time": "2022-05-11T06:13:17.043Z"
   },
   {
    "duration": 14,
    "start_time": "2022-05-11T06:13:17.826Z"
   },
   {
    "duration": 12,
    "start_time": "2022-05-11T06:13:48.351Z"
   },
   {
    "duration": 13,
    "start_time": "2022-05-11T06:14:11.671Z"
   },
   {
    "duration": 3,
    "start_time": "2022-05-11T06:16:02.529Z"
   },
   {
    "duration": 157,
    "start_time": "2022-05-11T06:16:02.534Z"
   },
   {
    "duration": 152,
    "start_time": "2022-05-11T06:16:02.692Z"
   },
   {
    "duration": 155,
    "start_time": "2022-05-11T06:16:02.846Z"
   },
   {
    "duration": 10,
    "start_time": "2022-05-11T06:16:03.002Z"
   },
   {
    "duration": 10,
    "start_time": "2022-05-11T06:16:03.013Z"
   },
   {
    "duration": 10,
    "start_time": "2022-05-11T06:16:03.025Z"
   },
   {
    "duration": 16,
    "start_time": "2022-05-11T06:16:03.037Z"
   },
   {
    "duration": 15,
    "start_time": "2022-05-11T06:16:03.054Z"
   },
   {
    "duration": 44,
    "start_time": "2022-05-11T06:16:03.071Z"
   },
   {
    "duration": 48,
    "start_time": "2022-05-11T06:16:03.117Z"
   },
   {
    "duration": 63,
    "start_time": "2022-05-11T06:16:03.166Z"
   },
   {
    "duration": 44,
    "start_time": "2022-05-11T06:16:03.231Z"
   },
   {
    "duration": 11,
    "start_time": "2022-05-11T06:16:03.277Z"
   },
   {
    "duration": 19,
    "start_time": "2022-05-11T06:16:03.290Z"
   },
   {
    "duration": 98,
    "start_time": "2022-05-11T06:16:03.311Z"
   },
   {
    "duration": 262,
    "start_time": "2022-05-11T06:16:03.412Z"
   },
   {
    "duration": 287,
    "start_time": "2022-05-11T06:16:03.676Z"
   },
   {
    "duration": 51,
    "start_time": "2022-05-11T06:16:03.965Z"
   },
   {
    "duration": 260,
    "start_time": "2022-05-11T06:16:04.109Z"
   },
   {
    "duration": 290,
    "start_time": "2022-05-11T06:16:04.371Z"
   },
   {
    "duration": 147,
    "start_time": "2022-05-11T06:16:04.664Z"
   },
   {
    "duration": 347,
    "start_time": "2022-05-11T06:16:04.813Z"
   },
   {
    "duration": 305,
    "start_time": "2022-05-11T06:16:05.162Z"
   },
   {
    "duration": 5,
    "start_time": "2022-05-11T06:16:05.469Z"
   },
   {
    "duration": 12,
    "start_time": "2022-05-11T06:16:05.475Z"
   },
   {
    "duration": 0,
    "start_time": "2022-05-11T06:16:05.507Z"
   },
   {
    "duration": 0,
    "start_time": "2022-05-11T06:16:05.509Z"
   },
   {
    "duration": 0,
    "start_time": "2022-05-11T06:16:05.510Z"
   },
   {
    "duration": 0,
    "start_time": "2022-05-11T06:16:05.512Z"
   },
   {
    "duration": 0,
    "start_time": "2022-05-11T06:16:05.513Z"
   },
   {
    "duration": 0,
    "start_time": "2022-05-11T06:16:05.515Z"
   },
   {
    "duration": 9,
    "start_time": "2022-05-11T06:17:01.987Z"
   },
   {
    "duration": 4,
    "start_time": "2022-05-11T06:17:08.990Z"
   },
   {
    "duration": 3,
    "start_time": "2022-05-11T06:17:17.583Z"
   },
   {
    "duration": 159,
    "start_time": "2022-05-11T06:17:17.588Z"
   },
   {
    "duration": 148,
    "start_time": "2022-05-11T06:17:17.749Z"
   },
   {
    "duration": 153,
    "start_time": "2022-05-11T06:17:17.899Z"
   },
   {
    "duration": 10,
    "start_time": "2022-05-11T06:17:18.054Z"
   },
   {
    "duration": 12,
    "start_time": "2022-05-11T06:17:18.066Z"
   },
   {
    "duration": 27,
    "start_time": "2022-05-11T06:17:18.080Z"
   },
   {
    "duration": 16,
    "start_time": "2022-05-11T06:17:18.109Z"
   },
   {
    "duration": 16,
    "start_time": "2022-05-11T06:17:18.127Z"
   },
   {
    "duration": 16,
    "start_time": "2022-05-11T06:17:18.144Z"
   },
   {
    "duration": 84,
    "start_time": "2022-05-11T06:17:18.161Z"
   },
   {
    "duration": 44,
    "start_time": "2022-05-11T06:17:18.247Z"
   },
   {
    "duration": 60,
    "start_time": "2022-05-11T06:17:18.292Z"
   },
   {
    "duration": 9,
    "start_time": "2022-05-11T06:17:18.353Z"
   },
   {
    "duration": 6,
    "start_time": "2022-05-11T06:17:18.364Z"
   },
   {
    "duration": 57,
    "start_time": "2022-05-11T06:17:18.371Z"
   },
   {
    "duration": 349,
    "start_time": "2022-05-11T06:17:18.430Z"
   },
   {
    "duration": 282,
    "start_time": "2022-05-11T06:17:18.781Z"
   },
   {
    "duration": 43,
    "start_time": "2022-05-11T06:17:19.066Z"
   },
   {
    "duration": 374,
    "start_time": "2022-05-11T06:17:19.111Z"
   },
   {
    "duration": 290,
    "start_time": "2022-05-11T06:17:19.486Z"
   },
   {
    "duration": 138,
    "start_time": "2022-05-11T06:17:19.778Z"
   },
   {
    "duration": 268,
    "start_time": "2022-05-11T06:17:19.918Z"
   },
   {
    "duration": 299,
    "start_time": "2022-05-11T06:17:20.190Z"
   },
   {
    "duration": 17,
    "start_time": "2022-05-11T06:17:20.491Z"
   },
   {
    "duration": 5,
    "start_time": "2022-05-11T06:17:20.510Z"
   },
   {
    "duration": 6,
    "start_time": "2022-05-11T06:17:20.517Z"
   },
   {
    "duration": 10,
    "start_time": "2022-05-11T06:17:20.525Z"
   },
   {
    "duration": 9,
    "start_time": "2022-05-11T06:17:20.538Z"
   },
   {
    "duration": 9,
    "start_time": "2022-05-11T06:17:20.548Z"
   },
   {
    "duration": 5,
    "start_time": "2022-05-11T06:17:20.559Z"
   },
   {
    "duration": 1452,
    "start_time": "2022-05-11T06:17:20.608Z"
   },
   {
    "duration": 6,
    "start_time": "2022-05-11T06:17:43.239Z"
   },
   {
    "duration": 1356,
    "start_time": "2022-05-11T06:17:44.067Z"
   },
   {
    "duration": 71,
    "start_time": "2022-05-11T06:21:14.469Z"
   },
   {
    "duration": 5,
    "start_time": "2022-05-11T06:21:26.469Z"
   },
   {
    "duration": 1343,
    "start_time": "2022-05-11T06:21:27.671Z"
   },
   {
    "duration": 5,
    "start_time": "2022-05-11T06:26:34.765Z"
   },
   {
    "duration": 1310,
    "start_time": "2022-05-11T06:26:35.117Z"
   },
   {
    "duration": 6,
    "start_time": "2022-05-11T06:26:49.149Z"
   },
   {
    "duration": 1310,
    "start_time": "2022-05-11T06:26:49.913Z"
   },
   {
    "duration": 6,
    "start_time": "2022-05-11T06:27:09.279Z"
   },
   {
    "duration": 1367,
    "start_time": "2022-05-11T06:27:11.262Z"
   },
   {
    "duration": 1366,
    "start_time": "2022-05-11T06:29:01.715Z"
   },
   {
    "duration": 1332,
    "start_time": "2022-05-11T06:29:54.651Z"
   },
   {
    "duration": 474,
    "start_time": "2022-05-11T06:30:14.071Z"
   },
   {
    "duration": 1492,
    "start_time": "2022-05-11T06:35:34.184Z"
   },
   {
    "duration": 160,
    "start_time": "2022-05-11T06:35:35.678Z"
   },
   {
    "duration": 148,
    "start_time": "2022-05-11T06:35:35.839Z"
   },
   {
    "duration": 156,
    "start_time": "2022-05-11T06:35:35.989Z"
   },
   {
    "duration": 18,
    "start_time": "2022-05-11T06:35:36.146Z"
   },
   {
    "duration": 11,
    "start_time": "2022-05-11T06:35:36.166Z"
   },
   {
    "duration": 29,
    "start_time": "2022-05-11T06:35:36.179Z"
   },
   {
    "duration": 21,
    "start_time": "2022-05-11T06:35:36.210Z"
   },
   {
    "duration": 15,
    "start_time": "2022-05-11T06:35:36.233Z"
   },
   {
    "duration": 15,
    "start_time": "2022-05-11T06:35:36.252Z"
   },
   {
    "duration": 84,
    "start_time": "2022-05-11T06:35:36.268Z"
   },
   {
    "duration": 61,
    "start_time": "2022-05-11T06:35:36.353Z"
   },
   {
    "duration": 50,
    "start_time": "2022-05-11T06:35:36.415Z"
   },
   {
    "duration": 13,
    "start_time": "2022-05-11T06:35:36.467Z"
   },
   {
    "duration": 28,
    "start_time": "2022-05-11T06:35:36.482Z"
   },
   {
    "duration": 97,
    "start_time": "2022-05-11T06:35:36.512Z"
   },
   {
    "duration": 281,
    "start_time": "2022-05-11T06:35:36.612Z"
   },
   {
    "duration": 278,
    "start_time": "2022-05-11T06:35:36.894Z"
   },
   {
    "duration": 51,
    "start_time": "2022-05-11T06:35:37.174Z"
   },
   {
    "duration": 268,
    "start_time": "2022-05-11T06:35:37.308Z"
   },
   {
    "duration": 286,
    "start_time": "2022-05-11T06:35:37.578Z"
   },
   {
    "duration": 141,
    "start_time": "2022-05-11T06:35:37.866Z"
   },
   {
    "duration": 261,
    "start_time": "2022-05-11T06:35:38.011Z"
   },
   {
    "duration": 376,
    "start_time": "2022-05-11T06:35:38.274Z"
   },
   {
    "duration": 5,
    "start_time": "2022-05-11T06:35:38.651Z"
   },
   {
    "duration": 5,
    "start_time": "2022-05-11T06:35:38.658Z"
   },
   {
    "duration": 6,
    "start_time": "2022-05-11T06:35:38.665Z"
   },
   {
    "duration": 38,
    "start_time": "2022-05-11T06:35:38.675Z"
   },
   {
    "duration": 10,
    "start_time": "2022-05-11T06:35:38.716Z"
   },
   {
    "duration": 10,
    "start_time": "2022-05-11T06:35:38.728Z"
   },
   {
    "duration": 6,
    "start_time": "2022-05-11T06:35:38.739Z"
   },
   {
    "duration": 1451,
    "start_time": "2022-05-11T06:35:38.747Z"
   },
   {
    "duration": 1356,
    "start_time": "2022-05-11T06:35:40.200Z"
   },
   {
    "duration": 1335,
    "start_time": "2022-05-11T06:35:41.557Z"
   },
   {
    "duration": 537,
    "start_time": "2022-05-11T06:35:42.893Z"
   }
  ],
  "kernelspec": {
   "display_name": "Python 3 (ipykernel)",
   "language": "python",
   "name": "python3"
  },
  "language_info": {
   "codemirror_mode": {
    "name": "ipython",
    "version": 3
   },
   "file_extension": ".py",
   "mimetype": "text/x-python",
   "name": "python",
   "nbconvert_exporter": "python",
   "pygments_lexer": "ipython3",
   "version": "3.9.7"
  },
  "toc": {
   "base_numbering": 1,
   "nav_menu": {},
   "number_sections": true,
   "sideBar": true,
   "skip_h1_title": true,
   "title_cell": "Table of Contents",
   "title_sidebar": "Contents",
   "toc_cell": false,
   "toc_position": {},
   "toc_section_display": true,
   "toc_window_display": false
  }
 },
 "nbformat": 4,
 "nbformat_minor": 5
}
